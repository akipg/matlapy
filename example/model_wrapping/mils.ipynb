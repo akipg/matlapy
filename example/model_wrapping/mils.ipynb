{
 "cells": [
  {
   "cell_type": "markdown",
   "metadata": {},
   "source": [
    "# Model wrapping\n",
    "![](wrapping.png)"
   ]
  },
  {
   "cell_type": "code",
   "execution_count": null,
   "metadata": {},
   "outputs": [],
   "source": [
    "from matlapy import Matlapy\n",
    "import matlapy.blocks\n",
    "from pathlib import Path"
   ]
  },
  {
   "cell_type": "code",
   "execution_count": null,
   "metadata": {},
   "outputs": [],
   "source": [
    "from importlib import reload\n",
    "reload(matlapy.blocks)"
   ]
  },
  {
   "cell_type": "code",
   "execution_count": null,
   "metadata": {},
   "outputs": [],
   "source": [
    "mat = Matlapy()"
   ]
  },
  {
   "cell_type": "code",
   "execution_count": null,
   "metadata": {},
   "outputs": [],
   "source": [
    "mat.connect_first_matlab()"
   ]
  },
  {
   "cell_type": "code",
   "execution_count": null,
   "metadata": {},
   "outputs": [],
   "source": [
    "mat.eng.cd(str(Path().absolute()))"
   ]
  },
  {
   "cell_type": "code",
   "execution_count": null,
   "metadata": {},
   "outputs": [],
   "source": [
    "mdl = mat.Slx(\"example_model\").new()"
   ]
  },
  {
   "cell_type": "code",
   "execution_count": null,
   "metadata": {},
   "outputs": [],
   "source": [
    "refmdl = mat.Slx(\"mdl1\")"
   ]
  },
  {
   "cell_type": "code",
   "execution_count": null,
   "metadata": {},
   "outputs": [],
   "source": [
    "sub = mdl.subsystem(\"func\")\n",
    "sub.moveTo(100, 100)\n",
    "model = sub.add_block(matlapy.blocks.Model).moveTo(100, 100)\n",
    "model.set_param(\"ModelName\", \"mdl1\")\n",
    "for port_idx, port_name in enumerate(refmdl.inports):\n",
    "    if port_name.endswith(\"_\"):\n",
    "        port_name = port_name[:-1]\n",
    "    if port_name.startswith(\"$\"):\n",
    "        port_name = port_name[1:]\n",
    "    if port_idx == 0:\n",
    "        convert = sub.add_block(matlapy.blocks.Convert).alignTo(model, 0, 2, marginX=-10)\n",
    "    else:\n",
    "        convert = sub.add_block(matlapy.blocks.Convert).alignTo(convert, 6, 9, marginY=30)\n",
    "    convert.connectTo(model, dstport=port_idx+1, srcport=1)\n",
    "    ds = sub.add_block(matlapy.blocks.DataStoreRead, f\"DSR_{port_name}\").alignTo(convert, 3, 5, marginX=-10).connectTo(convert).set_param(\"DataStoreName\", port_name)\n",
    "\n",
    "for port_idx, port_name in enumerate(refmdl.outports):\n",
    "    if port_name.endswith(\"_\"):\n",
    "        port_name = port_name[:-1]\n",
    "    if port_name.startswith(\"$\"):\n",
    "        port_name = port_name[1:]\n",
    "    if port_idx == 0:\n",
    "        convert = sub.add_block(matlapy.blocks.Convert).alignTo(model, 2, 0, marginX=10)\n",
    "    else:\n",
    "        convert = sub.add_block(matlapy.blocks.Convert).alignTo(convert, 6, 9, marginY=30)\n",
    "    convert.connectFrom(model, srcport=port_idx+1, dstport=1)\n",
    "    ds = sub.add_block(matlapy.blocks.DataStoreWrite, f\"DSW_{port_name}\").alignTo(convert, 5, 3, marginX=10).connectFrom(convert).set_param(\"DataStoreName\", port_name)\n",
    "        "
   ]
  },
  {
   "cell_type": "code",
   "execution_count": null,
   "metadata": {},
   "outputs": [],
   "source": []
  }
 ],
 "metadata": {
  "kernelspec": {
   "display_name": "Python 3.6.8 64-bit",
   "language": "python",
   "name": "python3"
  },
  "language_info": {
   "codemirror_mode": {
    "name": "ipython",
    "version": 3
   },
   "file_extension": ".py",
   "mimetype": "text/x-python",
   "name": "python",
   "nbconvert_exporter": "python",
   "pygments_lexer": "ipython3",
   "version": "3.6.8"
  },
  "orig_nbformat": 4,
  "vscode": {
   "interpreter": {
    "hash": "0cd064a52a93a8f4871473d9e98e7c2e57a30a18e02432e85ced1cd891e8b4da"
   }
  }
 },
 "nbformat": 4,
 "nbformat_minor": 2
}
